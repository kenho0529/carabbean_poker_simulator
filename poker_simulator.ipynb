{
 "cells": [
  {
   "cell_type": "markdown",
   "metadata": {},
   "source": [
    "## Caribbean Poker Simulation\n",
    "\n",
    "Function Need:\n",
    "1. Basic Card Play\n",
    "2. Basic Card Rules to Compare the larger or smaller pattern\n",
    "3. Start with 2 players - Banker & Player Onlty"
   ]
  },
  {
   "cell_type": "code",
   "execution_count": 91,
   "metadata": {},
   "outputs": [
    {
     "name": "stdout",
     "output_type": "stream",
     "text": [
      "Player Card:\n",
      "['K-Spades', '5-Spades', 'A-Diamonds', '4-Clubs', 'A-Clubs']\n",
      "Dealer Flop:\n",
      "4-Diamonds\n",
      "Player win\n",
      "----------------------------------------------------------------\n",
      "Dealer Card:\n",
      "['4-Diamonds', 'K-Hearts', '3-Spades', '9-Clubs', 'J-Diamonds']\n"
     ]
    }
   ],
   "source": [
    "import random\n",
    "from collections import Counter\n",
    "from random import randint\n",
    "\n",
    "# Define card values and suits\n",
    "suits = ['Hearts', 'Diamonds', 'Clubs', 'Spades']\n",
    "values = ['2', '3', '4', '5', '6', '7', '8', '9', '10', 'J', 'Q', 'K', 'A']\n",
    "card_values = {str(i): i for i in range(2, 11)}\n",
    "card_values.update({'J': 11, 'Q': 12, 'K': 13, 'A': 14})\n",
    "\n",
    "# Create a deck\n",
    "deck = [{'suit': suit, 'value': value} for suit in suits for value in values]\n",
    "\n",
    "def identify_biggest_card(hand):\n",
    "    values = [card['value'] for card in hand]\n",
    "    best_value=max([card_values[card] for card in values])\n",
    "    return best_value\n",
    "\n",
    "def get_total_point_from_hand(hand):\n",
    "    values = [card['value'] for card in hand]\n",
    "    total_values=sum([card_values[card] for card in values])\n",
    "    return total_values\n",
    "\n",
    "def shuffle_deck(deck):\n",
    "    random.shuffle(deck)\n",
    "    return deck\n",
    "\n",
    "def deal_hand(deck, num_cards):\n",
    "    hand = [deck.pop() for _ in range(num_cards)]\n",
    "    return hand\n",
    "\n",
    "def evaluate_hand(hand):\n",
    "    # Sort hand by card values\n",
    "    hand_sorted = sorted(hand, key=lambda card: card_values[card['value']], reverse=True)\n",
    "    values = [card['value'] for card in hand_sorted]\n",
    "    suits = [card['suit'] for card in hand_sorted]\n",
    "\n",
    "    # Check for flush\n",
    "    is_flush = len(set(suits)) == 1\n",
    "\n",
    "    # Check for straight\n",
    "    is_straight = all(card_values[values[i]] - 1 == card_values[values[i + 1]] for i in range(4))\n",
    "    if set(values) == {'A', '2', '3', '4', '5'}:  # Handle Ace-low straight\n",
    "        is_straight = True\n",
    "\n",
    "    # Determine hand rank\n",
    "    value_counts = Counter(values)\n",
    "    most_common = value_counts.most_common()\n",
    "\n",
    "\n",
    "    # Hand rankings\n",
    "    if is_straight and is_flush:\n",
    "        print(\"Straight Flush\")\n",
    "        return (8, hand_sorted)  # Straight flush\n",
    "    if most_common[0][1] == 4:\n",
    "        print(most_common[0][0])\n",
    "        return (7, most_common[0][0])  # Four of a kind\n",
    "    if most_common[0][1] == 3 and most_common[1][1] == 2:\n",
    "        return (6, most_common[0][0])  # Full house\n",
    "    if is_flush:\n",
    "        return (5, hand_sorted)  # Flush\n",
    "    if is_straight:\n",
    "        return (4, hand_sorted)  # Straight\n",
    "    if most_common[0][1] == 3:\n",
    "        return (3, most_common[0][0])  # Three of a kind\n",
    "    if most_common[0][1] == 2 and most_common[1][1] == 2:\n",
    "        return (2, (most_common[0][0], most_common[1][0]))  # Two pair\n",
    "    if most_common[0][1] == 2:\n",
    "        return (1, most_common[0][0])  # One pair\n",
    "    return (0, hand_sorted)  # High card\n",
    "\n",
    "def player_decision():\n",
    "    pass\n",
    "\n",
    "def play_round():\n",
    "    decks = shuffle_deck(deck.copy())\n",
    "    player_hand = deal_hand(decks, 5)\n",
    "    dealer_hand = deal_hand(decks, 5)\n",
    "\n",
    "    #Simulate Playing with person\n",
    "    shown_dealer_card=dealer_hand[randint(0,4)]\n",
    "    print(\"Player Card:\")\n",
    "    print([card[\"value\"]+\"-\"+card[\"suit\"] for card in player_hand])\n",
    "    print(\"Dealer Flop:\")\n",
    "    print(shown_dealer_card[\"value\"]+\"-\"+shown_dealer_card[\"suit\"])\n",
    "\n",
    "    # Implement betting and strategy logic here\n",
    "\n",
    "    # Evaluate hands and determine winner\n",
    "    player_hand_eval=evaluate_hand(player_hand)\n",
    "    dealer_hand_eval=evaluate_hand(dealer_hand)\n",
    "\n",
    "    if (player_hand_eval[0]>dealer_hand_eval[0]):\n",
    "        print(\"Player win\")\n",
    "\n",
    "    elif (player_hand_eval[0]<dealer_hand_eval[0]):\n",
    "        print(\"Dealer win\")\n",
    "    else:\n",
    "        if isinstance(player_hand_eval[1], str): #For Both Four of a kind, Full House, Three of a kind cases\n",
    "            player_card_value=card_values[player_hand_eval[1]]\n",
    "            dealer_card_value=card_values[dealer_hand_eval[1]]\n",
    "            \n",
    "        elif player_hand_eval[0]==2: # Two Pairs Scenario\n",
    "            player_card_value=max([card_values[pair] for pair in player_hand_eval[1]])\n",
    "            dealer_card_value=max([card_values[pair] for pair in dealer_hand_eval[1]])\n",
    "\n",
    "        elif player_hand_eval[0]==5:\n",
    "            #For Flush only consider the biggest card\n",
    "            player_card_value=identify_biggest_card(player_hand_eval[1])\n",
    "            dealer_card_value=identify_biggest_card(dealer_hand_eval[1])\n",
    "\n",
    "        elif isinstance(player_hand_eval[1], list):\n",
    "            #Counting the total point together\n",
    "            player_card_value=get_total_point_from_hand(player_hand_eval[1])\n",
    "            dealer_card_value=get_total_point_from_hand(dealer_hand_eval[1])\n",
    "        else:\n",
    "            print(\"Error\")\n",
    "            \n",
    "\n",
    "        if player_card_value>dealer_card_value:\n",
    "            print(\"Player Win\")\n",
    "        else:\n",
    "            print(\"Dealer Win\")\n",
    "    #Show Player Hand and one card from dealer\n",
    "    print(\"----------------------------------------------------------------\")\n",
    "    print(\"Dealer Card:\")\n",
    "    print([card[\"value\"]+\"-\"+card[\"suit\"] for card in dealer_hand])\n",
    "    \n",
    "# Run multiple simulations\n",
    "def run_simulations(n):\n",
    "    for _ in range(n):\n",
    "        play_round()\n",
    "play_round()\n",
    "# Start simulation\n",
    "#run_simulations(10)"
   ]
  },
  {
   "cell_type": "code",
   "execution_count": 77,
   "metadata": {},
   "outputs": [
    {
     "data": {
      "text/plain": [
       "2"
      ]
     },
     "execution_count": 77,
     "metadata": {},
     "output_type": "execute_result"
    }
   ],
   "source": [
    "\n"
   ]
  },
  {
   "cell_type": "code",
   "execution_count": 67,
   "metadata": {},
   "outputs": [],
   "source": [
    "card_=[{'suit': 'Spades', 'value': '7'}, {'suit': 'Hearts', 'value': '7'},\n",
    "        {'suit': 'Clubs', 'value': '7'}, {'suit': 'Diamonds', 'value': 'J'}, {'suit': 'Spades', 'value': 'K'}]"
   ]
  },
  {
   "cell_type": "code",
   "execution_count": 85,
   "metadata": {},
   "outputs": [
    {
     "data": {
      "text/plain": [
       "['7-Spades', '7-Hearts', '7-Clubs', 'J-Diamonds', 'K-Spades']"
      ]
     },
     "execution_count": 85,
     "metadata": {},
     "output_type": "execute_result"
    }
   ],
   "source": []
  },
  {
   "cell_type": "code",
   "execution_count": 82,
   "metadata": {},
   "outputs": [
    {
     "data": {
      "text/plain": [
       "'Spades7'"
      ]
     },
     "execution_count": 82,
     "metadata": {},
     "output_type": "execute_result"
    }
   ],
   "source": [
    "card_[0][\"suit\"]+card_[0][\"value\"]"
   ]
  },
  {
   "cell_type": "code",
   "execution_count": 60,
   "metadata": {},
   "outputs": [],
   "source": [
    "card_2=[{'suit': 'Spades', 'value': '7'}, {'suit': 'Spades', 'value': '10'},\n",
    "        {'suit': 'Clubs', 'value': '8'}, {'suit': 'Clubs', 'value': 'Q'}, {'suit': 'Spades', 'value': 'K'}]"
   ]
  },
  {
   "cell_type": "code",
   "execution_count": 35,
   "metadata": {},
   "outputs": [
    {
     "data": {
      "text/plain": [
       "[{'suit': 'Spades', 'value': 'K'},\n",
       " {'suit': 'Clubs', 'value': 'J'},\n",
       " {'suit': 'Spades', 'value': '10'},\n",
       " {'suit': 'Clubs', 'value': '8'},\n",
       " {'suit': 'Spades', 'value': '7'}]"
      ]
     },
     "execution_count": 35,
     "metadata": {},
     "output_type": "execute_result"
    }
   ],
   "source": [
    "test = sorted(card_, key=lambda card: card_values[card['value']], reverse=True)\n",
    "test"
   ]
  },
  {
   "cell_type": "code",
   "execution_count": 64,
   "metadata": {},
   "outputs": [
    {
     "data": {
      "text/plain": [
       "13"
      ]
     },
     "execution_count": 64,
     "metadata": {},
     "output_type": "execute_result"
    }
   ],
   "source": [
    "values = [card['value'] for card in test]\n",
    "max([card_values[card] for card in values])"
   ]
  },
  {
   "cell_type": "code",
   "execution_count": 58,
   "metadata": {},
   "outputs": [
    {
     "data": {
      "text/plain": [
       "2"
      ]
     },
     "execution_count": 58,
     "metadata": {},
     "output_type": "execute_result"
    }
   ],
   "source": [
    "max([1,2])"
   ]
  },
  {
   "cell_type": "code",
   "execution_count": 61,
   "metadata": {},
   "outputs": [
    {
     "data": {
      "text/plain": [
       "[{'suit': 'Spades', 'value': 'K'},\n",
       " {'suit': 'Clubs', 'value': 'Q'},\n",
       " {'suit': 'Spades', 'value': '10'},\n",
       " {'suit': 'Clubs', 'value': '8'},\n",
       " {'suit': 'Spades', 'value': '7'}]"
      ]
     },
     "execution_count": 61,
     "metadata": {},
     "output_type": "execute_result"
    }
   ],
   "source": [
    "evaluate_hand(card_2)[1]"
   ]
  },
  {
   "cell_type": "code",
   "execution_count": 28,
   "metadata": {},
   "outputs": [
    {
     "data": {
      "text/plain": [
       "(1, 'K')"
      ]
     },
     "execution_count": 28,
     "metadata": {},
     "output_type": "execute_result"
    }
   ],
   "source": [
    "evaluate_hand(card_2)"
   ]
  },
  {
   "cell_type": "code",
   "execution_count": null,
   "metadata": {},
   "outputs": [],
   "source": []
  }
 ],
 "metadata": {
  "kernelspec": {
   "display_name": "Python 3",
   "language": "python",
   "name": "python3"
  },
  "language_info": {
   "codemirror_mode": {
    "name": "ipython",
    "version": 3
   },
   "file_extension": ".py",
   "mimetype": "text/x-python",
   "name": "python",
   "nbconvert_exporter": "python",
   "pygments_lexer": "ipython3",
   "version": "3.8.10"
  }
 },
 "nbformat": 4,
 "nbformat_minor": 2
}
